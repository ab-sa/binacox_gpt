{
  "nbformat": 4,
  "nbformat_minor": 0,
  "metadata": {
    "colab": {
      "provenance": []
    },
    "kernelspec": {
      "name": "python3",
      "display_name": "Python 3"
    },
    "language_info": {
      "name": "python"
    }
  },
  "cells": [
    {
      "cell_type": "code",
      "execution_count": null,
      "metadata": {
        "id": "pdI-tsdLTJTE"
      },
      "outputs": [],
      "source": [
        "!git clone https://github.com/SimonBussy/binacox.git\n",
        "!cd binacox"
      ]
    },
    {
      "cell_type": "code",
      "source": [
        "!grep -r 'tick' ./binacox"
      ],
      "metadata": {
        "id": "FxJmA7PTTo3p"
      },
      "execution_count": null,
      "outputs": []
    }
  ]
}